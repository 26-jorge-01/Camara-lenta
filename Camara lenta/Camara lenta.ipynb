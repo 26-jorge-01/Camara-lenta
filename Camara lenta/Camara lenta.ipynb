{
  "nbformat": 4,
  "nbformat_minor": 0,
  "metadata": {
    "colab": {
      "name": "Camara Lenta.ipynb",
      "provenance": [],
      "collapsed_sections": [],
      "toc_visible": true
    },
    "kernelspec": {
      "name": "python3",
      "display_name": "Python 3"
    }
  },
  "cells": [
    {
      "cell_type": "markdown",
      "metadata": {
        "id": "eDypi7GVKuJ7"
      },
      "source": [
        "# Cámara Lenta"
      ]
    },
    {
      "cell_type": "markdown",
      "metadata": {
        "id": "PiMy24z6K56P"
      },
      "source": [
        "El slow motion o cámara lenta, es una técnica de grabación de imágenes que lleva mucho tiempo siendo utilizada cine. Esta técnica, ahora, está al alcance de todos, ya que dispositivos tan cotidianos como los teléfonos móviles o las cámaras de acción nos ofrecen dicha posibilidad."
      ]
    },
    {
      "cell_type": "markdown",
      "metadata": {
        "id": "mGRPg_FwLq5u"
      },
      "source": [
        "## Frame rate o fotogramas"
      ]
    },
    {
      "cell_type": "markdown",
      "metadata": {
        "id": "ABcwuXoJMIDS"
      },
      "source": [
        "Un fotograma o frame es cada una de las imágenes que forman un vídeo. Se expresan con las siglas fps y en hercios **(Hz)**.\n",
        "\n",
        "La expresión se utiliza en los campos del vídeo, el cine o gráficos por ordenador. Podemos hacer una grabación en diferentes fotogramas por segundo, dependiendo del tipo de vídeo que sea, lo que vayamos a grabar o a dónde se va a reproducir.\n"
      ]
    },
    {
      "cell_type": "markdown",
      "metadata": {
        "id": "9MNB48gyMJrY"
      },
      "source": [
        "## Progresivo Vs entrelazado"
      ]
    },
    {
      "cell_type": "markdown",
      "metadata": {
        "id": "O3v5DtASMJ9F"
      },
      "source": [
        "Una imagen en movimiento puede formarse de diferentes maneras en función de si utilizamos los fotogramas de manera progresiva o entrelazada. ¿Cuál es la diferencia?\n",
        "\n",
        "![progresivo-entrelazado](https://videodepot.com.mx/wp-content/uploads/2014/08/interlace.jpg)\n",
        "\n",
        "\n",
        "\n",
        "1.   En **progresivo** cada fotograma muestra todas las líneas que forman la imagen. El formato progresivo se expresa con una $p(1080p)$.\n",
        "2. En **entrelazado** cada fotograma sólo muestra la mitad de las líneas de una imagen, por lo tanto se necesitan dos fotogramas para mostrar la imagen completa. En imágenes estáticas la calidad está bien, pero si las imágenes contienen un movimiento rápido producen unas líneas como si fueran persianas. El formato entrelazado se expresa con una $i(1080i)$.\n",
        "\n",
        "\n"
      ]
    },
    {
      "cell_type": "markdown",
      "metadata": {
        "id": "wnBbExuoNYjw"
      },
      "source": [
        "## Antes vs Ahora"
      ]
    },
    {
      "cell_type": "markdown",
      "metadata": {
        "id": "5ge7WDfVNY56"
      },
      "source": [
        "\n",
        "\n",
        "*   **Antes:** En los comienzos del cine no había una velocidad de proyección base porque, al utilizar cámaras con manivela manual, era imposible mantener la misma velocidad todo el tiempo. Fue con la llegada del sonido sincronizado cuando se establecieron los **24 fotogramas por segundo como velocidad estándar.**\n",
        "\n",
        "  El **taumatropo**, en inglés wonderturner, es uno de los juguetes precursores al cine. Es un disco con dos imágenes diferentes en ambos lados y un trozo de cuerda a cada lado del disco, cuando giramos los discos rápidamente con la cuerda produce la ilusión de que ambas imágenes están juntas. El video se podia ver.\n",
        "*   **Ahora:** Vamos con los tipos de frame rate que existen ahora, y cómo y cuándo utilizarlos. Para simplificar, nombraremos solo los más conocidos que serían 24 fps en cine, 25 fps en  sistema PAL de la televisión europea y 30 fps para el sistema NTSC de la televisión estadounidense.\n",
        "  \n",
        "\n",
        "1. 24 fps: Si se desea que el video tenga una apariencia cinematográfica, como por ejemplo un cortometraje, es el **frame rate más habitual**. El único inconveniente de este formato es que las imágenes en movimiento pierden nitidez. Si alguna de las escenas es a cámara lenta y el movimiento es muy rápido, la imagén no quedará muy fluida.\n",
        "\n",
        "\n",
        "![](https://pbblogassets.s3.amazonaws.com/uploads/2016/07/24fps-vs-48fps-Guide.jpg)\n",
        "\n",
        "\n",
        "2. 25 fps y 30 fps: Los **25 fps** se utilizan en la televisión europea con el sistema PAL, en las pantallas LCD, los monitores de ordenador o los proyectores.\n",
        "\n",
        "3. Más fps: Hay algunas cámaras que también permiten grabar a **50 fps** y **60 fps**. Se utiliza en las televisiones de alta definición, pero de momento no se ha estandarizado.\n",
        "\n",
        "  A partir de los **60 fps**, como por ejemplo pueden ser los **100 fps** o más, se utilizan para grabar cámaras lentas con una nitidez incomparable con las cámaras lentas de **24 fps** o **25 fps**. Cuántos más fotogramas compongan la imagen, más fluida y nítida será la imagen y la cámara lenta. Esto puede ser muy útil para grabar deportes o movimientos muy rápidos.\n",
        "  \n",
        "  ![texto alternativo](https://f.ptcdn.info/609/026/000/1418739883-L0112Frame-o.png)\n",
        " \n",
        "\n",
        "\n"
      ]
    },
    {
      "cell_type": "markdown",
      "metadata": {
        "id": "khkKU_7pNZRc"
      },
      "source": [
        "## La Resolución"
      ]
    },
    {
      "cell_type": "markdown",
      "metadata": {
        "id": "gTkXZwz4TrWN"
      },
      "source": [
        "Las cámaras nos dejan escoger los fotogramas, pero la resolución puede variar según la opción. \n",
        "\n",
        "![texto alternativo](https://www.lonuevodehoy.com/wp-content/uploads/2013/07/resolucion-4k.jpg)\n",
        "\n",
        "Las ventajas de grabar a resoluciones bajas, como por ejemplo **720p**, es que los archivos en **bruto** pesaran menos y el flujo de trabajo será más fluido. La desventaja es que se pierde el detalle en la imagen.\n",
        "\n",
        "Lo bueno de grabar a resoluciones altas es, además de la calidad, que si se necesita escalar el plano en post producción la pérdida en la imagen será mínima. La desventaja es que, al contener tanta resolución, los archivos en **bruto**  pesarán más y el flujo de trabajo será más lento."
      ]
    },
    {
      "cell_type": "markdown",
      "metadata": {
        "id": "sgUnjhOS9Fzm"
      },
      "source": [
        "# Splines\n",
        "\n",
        "**Definición:** Dada una partición $Γ=\\{a=x_0,x_1,...,x_n=b\\}$ del intervalo $[a,b]$, una función $S$ definida en $[a,b]$ de grado $k\\geq 0$ es un spline correspondiente a la partición $Γ$ si se cumple:\n",
        "\n",
        "\n",
        "\n",
        "1.   $S$ es un polinómio de grado $\\geq k$ en cada subintervalo $[x_i,x_{i+1}]$, $i=0,1,...,n-1$\n",
        "2.   $S\\in C^{k-1}[a,b]$\n",
        "\n",
        "Los splines más utilizados son los lineales y cúbicos, los primeros\n",
        "por su simplicidad y los últimos por su eficacia para aproximarse a la\n",
        "curva $f$.\n",
        "\n",
        "\n"
      ]
    },
    {
      "cell_type": "markdown",
      "metadata": {
        "id": "ayPwrjrU9O-g"
      },
      "source": [
        "## Spline Lineal\n",
        "\n",
        "Es la manera más simple de realizar interpolación sobre cualquier\n",
        "conjunto de nodos, ya que la función $S$ que se busca, es una función\n",
        "lineal a trozos, es decir, se unen los nodos mediante rectas que se solapan en los extremos de los subintervalos, para que así la función $S$ sea\n",
        "continua.\n",
        "\n",
        "![texto alternativo](http://www.sc.ehu.es/sbweb/fisica3/datos/ajuste/interpolacion_lineal.jpg)\n",
        "\n",
        "La forma que tiene dicha función $S$, es la siguiente:\n",
        "\n",
        "$$\n",
        "S(x)= \\left\\{ \\begin{array}{lcc}\n",
        "             S_0(x)=m_0x+b_0 & \\hspace{4mm} x\\in[x_0,x_1]\\\\\n",
        "             \\\\ S_1(x)=m_1x+b_1 & \\hspace{4mm} x\\in[x_1,x_2]\\\\\n",
        "             \\\\ \\hspace{25mm} \\vdots  & \\vdots \\\\\n",
        "             \\\\s_{n-1}(X)=m_{n-1}x+b_{n-1} & x\\in[x_{n-1},x_n]\n",
        "             \\end{array}\n",
        "   \\right.\n",
        "$$\n",
        "\n",
        "por las condiciones de interpolación se tiene que\n",
        "\n",
        "$$S_0(x_1)=S_1(x_1);S_1(x_2)=S_2(x_2);...S_{n-1}(x_n)=S_n(x_n)$$\n",
        "\n",
        "La forma de construir cada uno de las funciones $S_i(x)$, $i=0,1,...,n-1$ es bastante sencilla, ya que se deben hallar rectas que unan un par de\n",
        "puntos, para ello se deben hallar cada una de las pendientes y los puntos\n",
        "de corte con el eje $y$ utilizando las siguientes fórmulas\n",
        "\n",
        "\\begin{align*}\n",
        "        m_i&= \\frac{f_{i+1}-f_i}{x_{i+1}-x_i}\\\\\n",
        "        b_i&=f_i-m_ix_i\\\\\n",
        "        i&=0,1,...,n-1\n",
        "    \\end{align*}\n",
        "    \n",
        "\n"
      ]
    },
    {
      "cell_type": "markdown",
      "metadata": {
        "id": "9qIYhEe-9PL5"
      },
      "source": [
        "## Spline Cúbico\n",
        "\n",
        "Este es el caso donde $k=3$ de la primera definición, es decir, para $n+1$ nodis de la forma $(x_i,f_i)$, se halla la función $S(x)$ que sea un polinomio de grado menor o igual que $3$ en cada subintervalo $[x_i,x_{i+1}]$, notado mediante $S_i(x)$ para $i=0,1,...,n-1$ y $S\\in C^2[a,b]$\n",
        "\n",
        "Para determinar la función $S$ se define el tamaño del subintervalo como:\n",
        "\n",
        "$$\n",
        "h_{i+1}:=x_{i+1}-x_i,i=0,1,...,n-1\n",
        "$$\n",
        "\n",
        "Si, \n",
        "\n",
        "$$\n",
        "S_i(x)=a_i+b_i(x-x_i)\n",
        "+c_i(x-x_i)^2+d_i(x-x_i)^3$$\n",
        "\n",
        "\n",
        "Como $S(x)$ interpola todos los nodos dados, se tiene:\n",
        "\n",
        "\\begin{align*}\n",
        "        S_i(x_i)&= f_i=a_i\\hspace{2mm} para \\hspace{2mm}i=0,1,...,n-1\\\\\n",
        "        S_i(x_{i+1})&= f_{i+1}\\hspace{2mm} para \\hspace{2mm}i=0,1,...,n-1\\\\\n",
        "        S'_{i+1}(x_{i+1})&= S'_{i}(x_{i+1})\\hspace{2mm} para \\hspace{2mm}i=0,1,...,n-2\\\\\n",
        "        S''_{i+1}(x_{i+1})&=S'_i(x_{i+1})\\hspace{2mm} para \\hspace{2mm}i=0,1,...,n-2\n",
        "    \\end{align*}\n",
        "    \n",
        "evaluando,\n",
        "\n",
        "\\begin{align*}\n",
        "a_{i+1}&=S_{i+1}(x_{i+1})=S_i(x_{i+1})\\\\\n",
        "&=a_i+b_i(x_{i+1}-x_i)+c_i(x_{i+1}-x_i)^2+d_i(x_{i+1}-x_i)^3\\\\\n",
        "&=a_i+b_ih_{i+1}+c_ih^2_{i+1}+d_ih^3_{i+1}\n",
        "    \\end{align*}\n",
        "    \n",
        "para $i=0,1,...,n-1\n",
        "\n",
        "la derivada de la ecuación es:\n",
        "\n",
        "$$\n",
        "S'_i(x)=b_i+2c_i(x-x_i)+3d_i(x-x_i)^2\n",
        "$$\n",
        "\n",
        "evaluando en $x_i$ se tiene:\n",
        "\n",
        "$$\n",
        "b_{i+1}=b_i+2c_ih_i+3d_ih^2_i\n",
        "$$\n",
        "\n",
        "derivando nuevamente la ecuación, se tiene:\n",
        "\n",
        "$$\n",
        "S''_i(x)=2c_i+6d_i(x-x_i)\n",
        "$$\n",
        "\n",
        "ahora, evaluando en $x_i$,\n",
        "\n",
        "$$\n",
        "\\frac{S''_i(x_i)}{2}=c_i\n",
        "$$\n",
        "\n",
        "Por tanto,\n",
        "\n",
        "$$\n",
        "c_{i+1}=c_i+3d_ih_i\n",
        "$$\n",
        "\n",
        "ahora, despejando $d_i$ y sustituyendo , se tiene\n",
        "\n",
        "\n",
        "\\begin{align*}\n",
        "a_{i+1}&=a_i+b_ih_i+c_ih_i^2+\\frac{c_{i+1}-c_i}{3h_i}h_i^2\\\\\n",
        "&=a_i+b_ih_i+(2c_i+c_{i+1})\\frac{h_i^2}{3}\\\\\n",
        "b_{i+1}&=b_i+c_ih_i+\\frac{3(c_{i+1}-c_i)h_i^2}{3h_i}\\\\\n",
        "&=b_i+(c_i+c_{i+1})h_i\n",
        "    \\end{align*}\n",
        "\n",
        "Luego, despejando $b_i$,\n",
        "\n",
        "\\begin{align*}\n",
        "b_i&=\\frac{1}{h_i}\\left(a_{i+1}-a_i-\\frac{h_i^2}{3}(2c_i+c_{i+1})\\right)\\\\\n",
        "&=\\frac{1}{h_i}(a_{i+1}-a_i)-\\frac{h_i}{3}(2c_i+c_{i+1})\n",
        "    \\end{align*}\n",
        "    \n",
        "Luego,\n",
        "\n",
        "$$\n",
        "b_i=\\frac{1}{h_{i-1}}(a_i-a_{i-1})-\\frac{h_{i-1}}{3}(2c_{i-1}+c_i)\\frac{3}{h_i}(a_{i+1}-a_i)-\\frac{3}{h_{i-1}}(a_i-a_{i-1})=h_{i-1}c_{i-1}+2c_i(h_i+h_{i-1})+h_ic_{i+1}\n",
        "$$\n",
        "\n",
        "Así, las matrices quedan:\n",
        "\n",
        "\n",
        "$$A=\\begin{pmatrix}1&0&0&...&0&0\\\\ h_0&2\\left(h_0+h_1\\right)&h_1&0&&...\\\\ 0&h_1&2\\left(h_1+h_2\\right)&h_2&...&\\\\ 0&0&...&...&...&0\\\\ ...&&...&h_{n-2}&2\\left(h_{n-2}+h_{n-1}\\right)&h_{n-1}\\\\ 0&0&...&0&0&1\\end{pmatrix}$$\n",
        "\n",
        "\n",
        "\n",
        "$$b=\\begin{pmatrix}0\\\\ \\frac{3}{h_1}\\left(a_2-a_1\\right)-\\frac{3}{h_0}\\left(a_1-a_0\\right)\\:\\\\ \\:...\\\\ \\:\\frac{3}{h_{n-1}}\\left(a_n-a_{n-1}\\right)-\\frac{3}{h_{n-2}}\\left(a_{n-1}-a_{n-2}\\right)\\\\ \\:0\\end{pmatrix}x=\\begin{pmatrix}c_0\\\\ c_1\\\\ ...\\\\ c_{n-1}\\\\ c_n\\end{pmatrix}$$"
      ]
    },
    {
      "cell_type": "markdown",
      "metadata": {
        "id": "wigqNbq5HsZn"
      },
      "source": [
        "# Implimentación"
      ]
    },
    {
      "cell_type": "markdown",
      "metadata": {
        "id": "tGxSE80LVhi4"
      },
      "source": [
        "## Libreria"
      ]
    },
    {
      "cell_type": "code",
      "metadata": {
        "id": "WZp6G3YxVC8S",
        "colab": {
          "base_uri": "https://localhost:8080/",
          "height": 53
        },
        "outputId": "55be2d8d-3eb3-4607-bdf3-608573ec881e"
      },
      "source": [
        "pip install opencv-python"
      ],
      "execution_count": null,
      "outputs": [
        {
          "output_type": "stream",
          "text": [
            "Requirement already satisfied: opencv-python in /usr/local/lib/python3.6/dist-packages (3.4.7.28)\n",
            "Requirement already satisfied: numpy>=1.11.3 in /usr/local/lib/python3.6/dist-packages (from opencv-python) (1.16.5)\n"
          ],
          "name": "stdout"
        }
      ]
    },
    {
      "cell_type": "code",
      "metadata": {
        "id": "c27L-DpHVXPo",
        "colab": {
          "base_uri": "https://localhost:8080/",
          "height": 53
        },
        "outputId": "8513bc5d-cce3-4c3d-c5ca-7d309ed7fc3e"
      },
      "source": [
        "pip install opencv-contrib-python"
      ],
      "execution_count": null,
      "outputs": [
        {
          "output_type": "stream",
          "text": [
            "Requirement already satisfied: opencv-contrib-python in /usr/local/lib/python3.6/dist-packages (3.4.3.18)\n",
            "Requirement already satisfied: numpy>=1.11.3 in /usr/local/lib/python3.6/dist-packages (from opencv-contrib-python) (1.16.5)\n"
          ],
          "name": "stdout"
        }
      ]
    },
    {
      "cell_type": "code",
      "metadata": {
        "id": "GtHr26cpVaV7"
      },
      "source": [
        "import numpy as np\n",
        "import matplotlib.pyplot as plt\n",
        "import cv2\n",
        "import string\n",
        "import pandas as pd\n",
        "import numpy as np\n",
        "import glob\n",
        "from skimage.color import rgb2gray\n",
        "from skimage import io"
      ],
      "execution_count": null,
      "outputs": []
    },
    {
      "cell_type": "markdown",
      "metadata": {
        "id": "uuf2IQ_rVrn4"
      },
      "source": [
        "## Spline cúbico como función"
      ]
    },
    {
      "cell_type": "markdown",
      "metadata": {
        "id": "QFIpNl4ihtxQ"
      },
      "source": [
        "Como se vio previamente en el cuadernillo \"Grafica de spline cubico\" tomaremos la función spline definida en dicho cuadernillo; esta función nos permitira interpolar los valores de intensidad (en este caso luminosa o de brillo) por cada pixel, se asignara $x_i$ a la frame $i$ y $f(x_i)=y_i$ a la intensidad de la imagen $i$ en algun pixel de la misma:"
      ]
    },
    {
      "cell_type": "code",
      "metadata": {
        "id": "oycPQbAjVgpF"
      },
      "source": [
        "def spline3(A): #Se define la aplicación spline cubica para un conjunto de puntos en el arreglo A\n",
        "    n = len(A)\n",
        "    a = []\n",
        "    h = []\n",
        "    x = []; y = []*(n-1); C = [0]*n\n",
        "    alpha = []\n",
        "    l = [1]\n",
        "    B = [0] \n",
        "    g = [0]; gn = 0\n",
        "    spline = []\n",
        "    for i in range(n):\n",
        "        a.append(A[i][1])\n",
        "    for i in range(n-1):\n",
        "        xh = A[i+1][0]-A[i][0]\n",
        "        h.append(xh)\n",
        "    for i in range(1, n-1):\n",
        "        xa = (3/h[i])*(a[i+1]-a[i])-(3/h[i-1])*(a[i]-a[i-1])\n",
        "        alpha.append(xa)\n",
        "    for i in range(1, n-1):\n",
        "        xl = 2*(A[i+1][0]-A[i-1][0])-h[i-1]*B[i-1]\n",
        "        l.append(xl)\n",
        "        xb = h[i]/l[i]\n",
        "        B.append(xb)\n",
        "        xg = (alpha[i-1]-h[i-1]*g[i-1])/l[i]\n",
        "        g.append(xg)\n",
        "    l.append(1)\n",
        "    g.append(0)\n",
        "    for i in range(n-1):\n",
        "        j = (n-1)-(i+1)\n",
        "        xC = g[j]-B[j]*C[j+1]\n",
        "        C[j] = xC\n",
        "        xy = ((a[j+1]-a[j])/h[j])-(h[j]/3)*(C[j+1]+2*C[j])\n",
        "        y.append(xy)\n",
        "        xx = (C[j+1]-C[j])/(3*h[j])\n",
        "        x.append(xx)\n",
        "    for i in range(n-1):\n",
        "        j=(n-1)-(i+1)\n",
        "        S3 = [a[i],y[j],C[i],x[j]]\n",
        "        spline.append(S3)\n",
        "    SC=np.array(spline)\n",
        "    return SC "
      ],
      "execution_count": null,
      "outputs": []
    },
    {
      "cell_type": "markdown",
      "metadata": {
        "id": "X26K9kTOV7gb"
      },
      "source": [
        "## Captura y generación de las frames del video"
      ]
    },
    {
      "cell_type": "markdown",
      "metadata": {
        "id": "amb0qZfciez6"
      },
      "source": [
        "Considere ahora un video cualquiera, para poder empezar a interpolar la maquina debe poder \"leerlo\", para esto considere el video $v2.mp4$ y la siguiente linea de codigo"
      ]
    },
    {
      "cell_type": "code",
      "metadata": {
        "id": "9VQzKZWvV6fw"
      },
      "source": [
        "vidcap = cv2.VideoCapture('v2.mp4') #Se considera un video cualquiera y se captura en el programa "
      ],
      "execution_count": null,
      "outputs": []
    },
    {
      "cell_type": "markdown",
      "metadata": {
        "id": "gekfPCRvi48I"
      },
      "source": [
        "Observe que los puntos sobre los cuales vamos a interpolar estan dados por la sucesion de imagenes que conforman el video $v2.mp4$, para poder acceder a estas \"imagenes\", tambien llamadas frames, considere el siguiente codigo"
      ]
    },
    {
      "cell_type": "code",
      "metadata": {
        "id": "4tVWhykuWF9E"
      },
      "source": [
        "success,image = vidcap.read()   #En esta parte se generan las frames que corresponden con el video anterior\n",
        "count = 0\n",
        "success = True\n",
        "while success:\n",
        "    success,image = vidcap.read()\n",
        "    cv2.imwrite(\"frame\" + str(count*2) + \".jpg\" , image)\n",
        "    if cv2.waitKey(10) == 27:\n",
        "        break\n",
        "    count += 1"
      ],
      "execution_count": null,
      "outputs": []
    },
    {
      "cell_type": "markdown",
      "metadata": {
        "id": "-gKS5WXSjMRW"
      },
      "source": [
        "Una vez generadas las frames del video debemos proceder a interpretarlas, para esto se usa la libreria cv2, esta nos permitira leer las imagenes generadas, bien sea a color o en escala de grises, para el analisis de este proyecto se trabajo con frames en escala de grises, posteriormente una vez generadas las matrices que representan a cada frame, se deben guardar para poder acceder a ellas con mas facilidad:  "
      ]
    },
    {
      "cell_type": "code",
      "metadata": {
        "id": "aeJCfKUHWIsS"
      },
      "source": [
        "img_array = []\n",
        "for i in range(99):\n",
        "    img = cv2.imread('frame'+str(i*2)+'.jpg')\n",
        "    img=rgb2gray(img)\n",
        "    height, width = img.shape\n",
        "    size = (width,height)\n",
        "    img_array.append(img)"
      ],
      "execution_count": null,
      "outputs": []
    },
    {
      "cell_type": "markdown",
      "metadata": {
        "id": "NLdALdq2jzbp"
      },
      "source": [
        "A continuación se presentara una imagen vista en formato \".jpg\" de las matrices generadas por el codigo anterior ubicada en \"img_array\":"
      ]
    },
    {
      "cell_type": "code",
      "metadata": {
        "id": "Hfutj_Bp1Vpe",
        "colab": {
          "base_uri": "https://localhost:8080/",
          "height": 237
        },
        "outputId": "d865f5dc-8acc-406c-c21e-e9fbe33d031d"
      },
      "source": [
        "plt.imshow(img_array[25],cmap=\"gray\", interpolation='nearest')"
      ],
      "execution_count": null,
      "outputs": [
        {
          "output_type": "execute_result",
          "data": {
            "text/plain": [
              "<matplotlib.image.AxesImage at 0x7f5c9c0818d0>"
            ]
          },
          "metadata": {
            "tags": []
          },
          "execution_count": 9
        },
        {
          "output_type": "display_data",
          "data": {
            "image/png": "[encoded data removed]",
            "text/plain": [
              "<Figure size 432x288 with 1 Axes>"
            ]
          },
          "metadata": {
            "tags": []
          }
        }
      ]
    },
    {
      "cell_type": "markdown",
      "metadata": {
        "id": "AYRx-gTIWPle"
      },
      "source": [
        "## Spline Lineal"
      ]
    },
    {
      "cell_type": "markdown",
      "metadata": {
        "id": "dCiCCeNXkMjH"
      },
      "source": [
        "En vista de lo que se buca generar es una aproximacion lineal del valor de la intensidad entre dos frames, debemos considera unicamente un arreglo $2\\textrm{x}2$, este arreglo, digamos $A$, nos premitira interpolar el valor intermedio entre la fram $i$ y la frame $i+1$, esto haciendo uso del spline cubico definida previamente; dado que estamos tomando unicamente dos puntos, dicha funcion generara un unico coeficiente el cual sera la pendiente de la recta que une a los puntos descritos en $A$, para esto defina la siguiente funcion pixel a pixel"
      ]
    },
    {
      "cell_type": "code",
      "metadata": {
        "id": "yfXhpvMDWLuM"
      },
      "source": [
        "def s3(x): #intensidad en la imagen x con respecto a A \n",
        "    SP=spline3(A)\n",
        "    return SP[0][0]+SP[0][1]*(x-A[0][0])"
      ],
      "execution_count": null,
      "outputs": []
    },
    {
      "cell_type": "markdown",
      "metadata": {
        "id": "kH3vm7-WlSqg"
      },
      "source": [
        "Una vez identificado dicho valor, podemos \"añadir\" a nuestra lista el valor intermedio de las frames a trabajar:"
      ]
    },
    {
      "cell_type": "code",
      "metadata": {
        "id": "QJoi4gCZWV_g"
      },
      "source": [
        "def cs3(A): #s3 como matriz 3x2\n",
        "    L=np.zeros((3,2))\n",
        "    L[0][0]=A[0][0]; L[0][1]=A[0][1] \n",
        "    L[1][0]=A[0][0]+((A[1][0]-A[0][0])/2); L[1][1]=s3(L[1][0])\n",
        "    L[2][0]=A[1][0]; L[2][1]=A[1][1]\n",
        "    return L"
      ],
      "execution_count": null,
      "outputs": []
    },
    {
      "cell_type": "code",
      "metadata": {
        "id": "G_zt80VS4mYx",
        "colab": {
          "base_uri": "https://localhost:8080/",
          "height": 35
        },
        "outputId": "71c980f2-75b2-45d6-91f6-ae24248ff492"
      },
      "source": [
        "img_array[0].shape"
      ],
      "execution_count": null,
      "outputs": [
        {
          "output_type": "execute_result",
          "data": {
            "text/plain": [
              "(160, 320)"
            ]
          },
          "metadata": {
            "tags": []
          },
          "execution_count": 14
        }
      ]
    },
    {
      "cell_type": "markdown",
      "metadata": {
        "id": "TQOVSKOKlisN"
      },
      "source": [
        "Una vez hecho esto podemos empezar a generar las imagenes intermedias que se estan buscando, debido a que las funciones previamente definidas nos permiten calcular los valores por pixel, solamente debemos generar esta interpolación por cada pixel en cada fila y cada columna de la matriz que representa a nuestra frame, debe repetirse este pasa por cada dos frames del video y posteriormente convertir en un arreglo numerico \"img_array2\" para poder manipular sus elementos de una manera un poco mas sencilla:"
      ]
    },
    {
      "cell_type": "code",
      "metadata": {
        "id": "OVgz4sDFWZBe"
      },
      "source": [
        "img_array2 = [] #lista en la cual se guardaran las imagenes generadas por el spline lineal\n",
        "height, width = img_array[0].shape\n",
        "for k in range(len(img_array)-1):\n",
        "    frame=np.zeros((height, width))\n",
        "    for i in range(height):\n",
        "        for j in range(width):\n",
        "            A=np.array([[k,img_array[k][i][j]],[k+1,img_array[k+1][i][j]]])\n",
        "            frame[i][j]=cs3(A)[1][1]          \n",
        "            height, width = (height, width)\n",
        "            size = (width,height)\n",
        "    img_array2.append(frame)"
      ],
      "execution_count": null,
      "outputs": []
    },
    {
      "cell_type": "markdown",
      "metadata": {
        "id": "4jTPYxo1mcsn"
      },
      "source": [
        "Ya que tenemos la lista de imagenes del frame y las generadas al interpolar como un arreglo numerico, solamente debemos proceder a ordenar dichos arreglos, para esto cosidere la siguiente linea de codigo"
      ]
    },
    {
      "cell_type": "code",
      "metadata": {
        "id": "j_j_8VwlWbmr"
      },
      "source": [
        "IL=[0]*(len(img_array)*2) #lista en donde se entre-ponen las imagenes de img_array2\n",
        "for i in range(len(img_array)):\n",
        "  IL[2*i]=img_array[i]\n",
        "for j in range(len(img_array2)):\n",
        "  IL[2*j+1]=img_array2[j]"
      ],
      "execution_count": null,
      "outputs": []
    },
    {
      "cell_type": "markdown",
      "metadata": {
        "id": "OGOwFhSsmuk0"
      },
      "source": [
        "Una vez generadas las matrices debemos pasar a imagen y guardar para poder llamarlas nuevamente"
      ]
    },
    {
      "cell_type": "code",
      "metadata": {
        "id": "D6Ajd4H0WfER",
        "colab": {
          "base_uri": "https://localhost:8080/",
          "height": 219
        },
        "outputId": "34346a4a-dee0-4f5f-a166-aff4e52d301f"
      },
      "source": [
        "for i in range(len(IL)-1):\n",
        "  fl=IL[i]\n",
        "  plt.imshow(fl,cmap=\"gray\", interpolation='nearest')\n",
        "  plt.savefig('fl'+str(i)+'.jpg')"
      ],
      "execution_count": null,
      "outputs": [
        {
          "output_type": "display_data",
          "data": {
            "image/png": "[encoded data removed]",
            "text/plain": [
              "<Figure size 432x288 with 1 Axes>"
            ]
          },
          "metadata": {
            "tags": []
          }
        }
      ]
    },
    {
      "cell_type": "markdown",
      "metadata": {
        "id": "ecvG33_Fm5Vc"
      },
      "source": [
        "Una vez generadas las frames y las frames resultado de la interpolacion, debemos volver a leerlas, esta vez en formato cv2 para que el programa sea capaz de generar el video a partir de la sucesion de imagenes"
      ]
    },
    {
      "cell_type": "code",
      "metadata": {
        "id": "IfUL9xvlWhJp"
      },
      "source": [
        "img_arrayl = []\n",
        "for i in range(len(IL)-1): #se debe cambiar 25 por la cantidad generada de frames que se obtuvieron del paso anterior\n",
        "    img = cv2.imread('fl'+str(i)+'.jpg')\n",
        "    height, width, layers = img.shape\n",
        "    size = (width,height)\n",
        "    img_arrayl.append(img)"
      ],
      "execution_count": null,
      "outputs": []
    },
    {
      "cell_type": "markdown",
      "metadata": {
        "id": "Rv0XDsYYnOch"
      },
      "source": [
        "De ese modo se obtiene el siguiente resultado (video) al aplicar la interpolacion lineal"
      ]
    },
    {
      "cell_type": "code",
      "metadata": {
        "id": "mFtf5svAWkVS"
      },
      "source": [
        "out = cv2.VideoWriter('project2.avi',cv2.VideoWriter_fourcc(*'DIVX'), 15, size)\n",
        " \n",
        "for i in range(len(img_arrayl)):\n",
        "    out.write(img_arrayl[i])\n",
        "out.release()"
      ],
      "execution_count": null,
      "outputs": []
    },
    {
      "cell_type": "markdown",
      "metadata": {
        "id": "U53iEeBRWo5b"
      },
      "source": [
        "## Spline cúbico como aplicación"
      ]
    },
    {
      "cell_type": "markdown",
      "metadata": {
        "id": "UR-k_YytnX1O"
      },
      "source": [
        "La siguiente funcion se utiliza para generar el arreglo de puntos cuyas cordenadas $x_i$ e $y_i$ representan la frame $i$ y su intencidad en el punto de posicion n,m en nuestro arreglo matricial repsentativo:"
      ]
    },
    {
      "cell_type": "code",
      "metadata": {
        "id": "hr-U0ABeWmN2"
      },
      "source": [
        "def ims3(img_array,n,m): #n => fila; m => columna \"Genera el arreglo del spline\"\n",
        "  B=[]\n",
        "  for i in range(len(img_array)):\n",
        "    B.append((i,img_array[i][n][m]))\n",
        "  B=np.array(B)\n",
        "  return B"
      ],
      "execution_count": null,
      "outputs": []
    },
    {
      "cell_type": "markdown",
      "metadata": {
        "id": "rCljxeMKoRB7"
      },
      "source": [
        "Una vez obtenido el arreglo por cada pixel procederemos a hayar el valor de interpolacion bucado (en este caso el punto medio), debe tener en cuenta que por cada tres puntos hay un cubico distinto y por eso se añade la condicion de estar en tre la fram $i$ y la frame $i+1$"
      ]
    },
    {
      "cell_type": "code",
      "metadata": {
        "id": "wJm52VkhWwTv"
      },
      "source": [
        "def s3c(x,B): #Genera la intensidad en la figura x con respecto al arreglo B\n",
        "  SP=spline3(B)\n",
        "  b=[]\n",
        "  for i in range(len(SP)):\n",
        "    if i<=x<=i+1:\n",
        "      return SP[i,0]+SP[i,1]*(x-B[i,0])+SP[i,2]*(x-B[i,0])**2+SP[i,3]*(x-B[i,0])**3"
      ],
      "execution_count": null,
      "outputs": []
    },
    {
      "cell_type": "markdown",
      "metadata": {
        "id": "RU9KVQOdo1k6"
      },
      "source": [
        "De manera similar a como se aplico en el spline lineal, generaremos el arreglo con los valores intermedios entre las frames por cada pixel, observe que puede ocurrir que muchos de los pixeles no cambien notoriamente entre una frame y la siguiente, una vez tenido esto en cuenta es necesario introducir un valor de tolerancia para determinar cuando un pixel cambio con respecto al anterior, si fuese el caso aplique la interpolacion cubica y si no, simplemente deje el mismo bien sea el valor de la frame anterior o de la siguiente"
      ]
    },
    {
      "cell_type": "code",
      "metadata": {
        "id": "5e1cyOkqW2U5"
      },
      "source": [
        "def cs3c(B): #genera los valores entre los elementos de B\n",
        "  f, c = B.shape\n",
        "  L=np.zeros((2*f-1,c))\n",
        "  for i in range(2*f-1):\n",
        "    if B[i][1]-B[i+1][1]>0.1:\n",
        "      if i%2==0:\n",
        "        L[i][0]=B[int(i*0.5)][0]; L[i][1]=B[int(i*0.5)][1]\n",
        "      elif i==1:\n",
        "          L[1][0]=B[0][0]+((B[1][0]-B[0][0])/2); L[1][1]=s3c(L[1][0],B)\n",
        "      elif i%2==1 & i>0:\n",
        "          L[i][0]=B[int((i-1)*0.5)][0]+0.5; L[i][1]=s3c(L[i][0],B) \n",
        "    else:\n",
        "      if i%2==0:\n",
        "        L[i][0]=B[int(i*0.5)][0]; L[i][1]=B[int(i*0.5)][1]\n",
        "      elif i==1:\n",
        "        L[1][0]=B[0][0]+((B[1][0]-B[0][0])/2); L[1][1]=B[0][1]\n",
        "      elif i%2==1 & i>0:\n",
        "        L[i][0]=B[int((i-1)*0.5)][0]+0.5; L[i][1]=B[i][1]\n",
        "  return L"
      ],
      "execution_count": null,
      "outputs": []
    },
    {
      "cell_type": "markdown",
      "metadata": {
        "id": "KxV-p7LZpkmS"
      },
      "source": [
        "Una vez hecho esto, podemos generar la frame intermedia a partir de los valores numericos obtenidos entre una frame a y una frame b:"
      ]
    },
    {
      "cell_type": "code",
      "metadata": {
        "id": "Rep09kbNW41V"
      },
      "source": [
        "def inter(a,b,img_array): #genera la imagen entre las frames a y b\n",
        "  c=a+((b-a)/2)\n",
        "  IM=np.zeros((height,width))\n",
        "  for i in range(height):\n",
        "    for j in range(width):\n",
        "      B=ims3(img_array,i,j)\n",
        "      IM[i][j]=s3c(c,B)\n",
        "  return IM"
      ],
      "execution_count": null,
      "outputs": []
    },
    {
      "cell_type": "markdown",
      "metadata": {
        "id": "EsPN1Mr5p0Iq"
      },
      "source": [
        "Observe que no todos los videos son del mismo tamaño, es por esto que debe hacerse la siguiente aclaracion para el correcto funcionamiento de nuestro codigo:"
      ]
    },
    {
      "cell_type": "code",
      "metadata": {
        "id": "2_mX9IxpcDGL",
        "colab": {
          "base_uri": "https://localhost:8080/",
          "height": 35
        },
        "outputId": "6b2fa5fd-4cc9-4e82-f6b1-a94dc27af3b6"
      },
      "source": [
        "height, width = img_array[0].shape\n",
        "width"
      ],
      "execution_count": null,
      "outputs": [
        {
          "output_type": "execute_result",
          "data": {
            "text/plain": [
              "320"
            ]
          },
          "metadata": {
            "tags": []
          },
          "execution_count": 14
        }
      ]
    },
    {
      "cell_type": "markdown",
      "metadata": {
        "id": "VRS99OoWp866"
      },
      "source": [
        "Por ultimo debemos generar un arreglo \"img_array3\" el cual va a contener a las matrices que representan la imagen intermedia haciendo unicamente uso de las funciones previamente definidas:"
      ]
    },
    {
      "cell_type": "code",
      "metadata": {
        "id": "8vim-j4iW7qq"
      },
      "source": [
        "img_array3=[] #lista de elementos generados por el spline cubico\n",
        "for i in range(len(img_array)-1):\n",
        "  img_array3.append(inter(i,i+1,img_array))\n",
        "  height, width, layers = (height, width, 3)\n",
        "  size = (width,height)"
      ],
      "execution_count": null,
      "outputs": []
    },
    {
      "cell_type": "markdown",
      "metadata": {
        "id": "eyAdGWo2qN4R"
      },
      "source": [
        "Al igual que en el spline lineal se debe organizar una lista que contenga tanto las frames originales como las del resultado de la interpolacion:"
      ]
    },
    {
      "cell_type": "code",
      "metadata": {
        "id": "2JJ4KvPUW91G"
      },
      "source": [
        "IC=[0]*(len(img_array)*2) #lista donde se entre-ponen los elementos de img_array3\n",
        "for i in range(len(img_array)):\n",
        "  IC[2*i]=img_array[i]\n",
        "for j in range(len(img_array3)):\n",
        "  IC[2*j+1]=img_array3[j]"
      ],
      "execution_count": null,
      "outputs": []
    },
    {
      "cell_type": "markdown",
      "metadata": {
        "id": "3p0IzOXDqYKI"
      },
      "source": [
        "Las imagenes de nuestra lista \"IC\" deben ser guardadas ya que debemos llamarlas para poder generar el video"
      ]
    },
    {
      "cell_type": "code",
      "metadata": {
        "id": "ALBPRiGxW_7A",
        "colab": {
          "base_uri": "https://localhost:8080/",
          "height": 219
        },
        "outputId": "dc7cd9c5-c28c-49ac-8b09-26689fb6b16c"
      },
      "source": [
        "for i in range(len(IC)-1):\n",
        "  fc=IC[i]\n",
        "  plt.imshow(fc,cmap=\"gray\", interpolation='nearest')\n",
        "  plt.savefig('fc'+str(i)+'.jpg')"
      ],
      "execution_count": null,
      "outputs": [
        {
          "output_type": "display_data",
          "data": {
            "image/png": "[encoded data removed]",
            "text/plain": [
              "<Figure size 432x288 with 1 Axes>"
            ]
          },
          "metadata": {
            "tags": []
          }
        }
      ]
    },
    {
      "cell_type": "code",
      "metadata": {
        "id": "2J2bmMKBXB85",
        "colab": {
          "base_uri": "https://localhost:8080/",
          "height": 237
        },
        "outputId": "0c1cb218-3f7d-424f-da02-89f87502a468"
      },
      "source": [
        "plt.imshow(IC[23], cmap='gray', interpolation='nearest')"
      ],
      "execution_count": null,
      "outputs": [
        {
          "output_type": "execute_result",
          "data": {
            "text/plain": [
              "<matplotlib.image.AxesImage at 0x7fd77edab978>"
            ]
          },
          "metadata": {
            "tags": []
          },
          "execution_count": 28
        },
        {
          "output_type": "display_data",
          "data": {
            "image/png": "[encoded data removed]",
            "text/plain": [
              "<Figure size 432x288 with 1 Axes>"
            ]
          },
          "metadata": {
            "tags": []
          }
        }
      ]
    },
    {
      "cell_type": "code",
      "metadata": {
        "id": "GFQu6_jVXFXq"
      },
      "source": [
        "plt.imshow(I[23], cmap='gray', interpolation='nearest') #un resultado obtenido del spline lineal\n",
        "height, width = I[0].shape\n",
        "I[23].shape"
      ],
      "execution_count": null,
      "outputs": []
    },
    {
      "cell_type": "markdown",
      "metadata": {
        "id": "DQ6c9IR-qwLi"
      },
      "source": [
        "Una vez generadas todas las frames de nuestro video resultado de la interpolacion cubica, podemos guardar nuevamente los valores numericos de estas imagenes, pero esta vez en formato cv2 para que pueda generarse el video"
      ]
    },
    {
      "cell_type": "code",
      "metadata": {
        "id": "uHurUNK1XIVn"
      },
      "source": [
        "img_arrayc = []\n",
        "for i in range(len(IC)-1):\n",
        "    img = cv2.imread('fc'+str(i)+'.jpg')\n",
        "    height, width, layers = img.shape\n",
        "    size = (width,height)\n",
        "    img_arrayc.append(img)"
      ],
      "execution_count": null,
      "outputs": []
    },
    {
      "cell_type": "markdown",
      "metadata": {
        "id": "ROOM3AeyrDnw"
      },
      "source": [
        "Por ultimo el video sera generado al \"unir\" nuestra secuencia de imagenes; esto se muestra con la siguiente linea de codigo: "
      ]
    },
    {
      "cell_type": "code",
      "metadata": {
        "id": "1wMPRTSlXLQp"
      },
      "source": [
        "out = cv2.VideoWriter('project3.avi',cv2.VideoWriter_fourcc(*'DIVX'), 15, size)\n",
        " \n",
        "for i in range(len(img_arrayc)):\n",
        "    out.write(img_arrayc[i])\n",
        "out.release()"
      ],
      "execution_count": null,
      "outputs": []
    }
  ]
}